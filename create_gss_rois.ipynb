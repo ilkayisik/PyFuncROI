{
 "cells": [
  {
   "cell_type": "markdown",
   "metadata": {},
   "source": [
    "## Workflow to create PFOB ROI's algorithmically (using parcels from Julian et al 2012)\n",
    "\n",
    "Attempt to create a workflow to create ROIs algorithmically \n",
    "[Similar to Fedorenko 2010, and Julian 2012]\n",
    "\n",
    "This code does:\n",
    "1. Take individual activation maps for a certain contrast\n",
    "2. Transform the maps to a common space\n",
    "3. Threshold the maps at a reasonable level and save a probabilistic map\n",
    "\n",
    "To DO\n",
    "4. Parcellate the overlap map by using an image segmentation algorithm\n",
    "5. Select a set of meaningful parcels\n",
    "6. Define subject specific ROI's by intersecting each meaningful parcel with \n",
    "each individual thresholded activation map\n",
    "7. Define the ROI's based on this\n",
    "\n",
    "\n",
    "dependencies: antsApplyTransforms"
   ]
  },
  {
   "cell_type": "code",
   "execution_count": 1,
   "metadata": {},
   "outputs": [
    {
     "name": "stderr",
     "output_type": "stream",
     "text": [
      "/home/ilkay/miniconda3/lib/python3.6/site-packages/sklearn/externals/joblib/__init__.py:15: DeprecationWarning: sklearn.externals.joblib is deprecated in 0.21 and will be removed in 0.23. Please import this functionality directly from joblib, which can be installed with: pip install joblib. If this warning is raised when loading pickled models, you may need to re-serialize those models with scikit-learn 0.21+.\n",
      "  warnings.warn(msg, category=DeprecationWarning)\n"
     ]
    }
   ],
   "source": [
    "# %% IMPORTS and PATHS\n",
    "from glob import glob\n",
    "import os\n",
    "from nipype.interfaces.ants import ApplyTransforms\n",
    "from nibabel import load, save, Nifti1Image\n",
    "from nilearn import plotting\n",
    "import numpy as np\n",
    "from nistats.thresholding import map_threshold\n",
    "import matplotlib.pyplot as plt"
   ]
  },
  {
   "cell_type": "markdown",
   "metadata": {},
   "source": [
    "# Set paths"
   ]
  },
  {
   "cell_type": "code",
   "execution_count": 2,
   "metadata": {},
   "outputs": [],
   "source": [
    "root = '/home/ilkay/MPI-Documents/hack_19/data/'\n",
    "ants_files = sorted(glob(root + 'fmriprep/sub-*/anat/sub-*_T1w_target-'\\\n",
    "                               'MNI152NLin2009cAsym_warp.h5'))\n",
    "nr_sub = len(ants_files) \n",
    "mni_temp = root + 'mni152.nii'"
   ]
  },
  {
   "cell_type": "markdown",
   "metadata": {},
   "source": [
    "The mni template (mni_icbm152_nlin_asym_09c.nii) is 1mm iso, but the func data is 3 mm iso.\n",
    "To make them compateblecreate a 3 mm version of the mni template."
   ]
  },
  {
   "cell_type": "code",
   "execution_count": 4,
   "metadata": {},
   "outputs": [],
   "source": [
    "%%bash\n",
    "bash_root='/home/ilkay/MPI-Documents/hack_19/data/'\n",
    "mni_temp=${bash_root}'/mni152.nii'\n",
    "mni_temp_3mm=${bash_root}'/mni152_3mm.nii'\n",
    "\n",
    "flirt -in ${mni_temp} -ref ${mni_temp} \\\n",
    "-applyisoxfm 3 -interp spline -out ${mni_temp_3mm}"
   ]
  },
  {
   "cell_type": "markdown",
   "metadata": {},
   "source": [
    "1. Take individual activation maps for a certain contrast "
   ]
  },
  {
   "cell_type": "code",
   "execution_count": 6,
   "metadata": {},
   "outputs": [],
   "source": [
    "# PLACE\n",
    "p_zmap = sorted(glob(root + 'analysis/sub-*/pfobloc/pfobloc.feat/stats/zstat13.nii.gz'))\n",
    "# FACE\n",
    "f_zmap = sorted(glob(root + 'analysis/sub-*/pfobloc/pfobloc.feat/stats/zstat12.nii.gz'))\n",
    "# OBJECT\n",
    "o_zmap = sorted(glob(root + 'analysis/sub-*/pfobloc/pfobloc.feat/stats/zstat11.nii.gz'))\n",
    "# BODY\n",
    "b_zmap = sorted(glob(root + 'analysis/sub-*/pfobloc/pfobloc.feat/stats/zstat14.nii.gz'))\n",
    "\n",
    "pfob = [p_zmap, f_zmap, o_zmap, b_zmap]\n",
    "names = ['place_prob', 'face_prob', 'object_prob', 'body_prob']"
   ]
  },
  {
   "cell_type": "markdown",
   "metadata": {},
   "source": [
    "2. Transform the maps to a common space 3x3x3 mni"
   ]
  },
  {
   "cell_type": "code",
   "execution_count": null,
   "metadata": {},
   "outputs": [],
   "source": [
    "mni_temp = root + 'mni152_3mm.nii.gz'\n",
    "for loc in pfob:\n",
    "    for c, zmap in enumerate(loc):\n",
    "        norm = ApplyTransforms(\n",
    "                reference_image=mni_temp,\n",
    "                input_image_type=3,\n",
    "                float=True,\n",
    "                interpolation='Linear',\n",
    "                invert_transform_flags=[False],\n",
    "                output_image=zmap.replace('.nii.gz', '_inMNI_3mm.nii.gz'),\n",
    "                input_image=zmap,\n",
    "                transforms=ants_files[c])\n",
    "        res = norm.run()\n",
    "        print(c+1, zmap)"
   ]
  },
  {
   "cell_type": "markdown",
   "metadata": {},
   "source": [
    "Load the normalized maps"
   ]
  },
  {
   "cell_type": "code",
   "execution_count": 7,
   "metadata": {},
   "outputs": [],
   "source": [
    "p_norm = sorted(glob(root + 'analysis/sub-*/pfobloc/pfobloc.feat/stats/zstat13_inMNI_3mm.nii.gz'))\n",
    "f_norm = sorted(glob(root + 'analysis/sub-*/pfobloc/pfobloc.feat/stats/zstat12_inMNI_3mm.nii.gz'))\n",
    "o_norm = sorted(glob(root + 'analysis/sub-*/pfobloc/pfobloc.feat/stats/zstat11_inMNI_3mm.nii.gz'))\n",
    "b_norm = sorted(glob(root + 'analysis/sub-*/pfobloc/pfobloc.feat/stats/zstat14_inMNI_3mm.nii.gz'))\n",
    "pfob_norm = [p_norm, f_norm, o_norm, b_norm]"
   ]
  },
  {
   "cell_type": "markdown",
   "metadata": {},
   "source": [
    "3. Threshold and binarize the maps at a reasonable level\n",
    "Save probabilistic maps and images out"
   ]
  },
  {
   "cell_type": "code",
   "execution_count": 25,
   "metadata": {},
   "outputs": [
    {
     "name": "stderr",
     "output_type": "stream",
     "text": [
      "/home/ilkay/miniconda3/lib/python3.6/site-packages/scipy/ndimage/measurements.py:272: DeprecationWarning: In future, it will be an error for 'np.bool_' scalars to be interpreted as an index\n",
      "  return _nd_image.find_objects(input, max_label)\n",
      "/home/ilkay/miniconda3/lib/python3.6/site-packages/scipy/ndimage/measurements.py:272: DeprecationWarning: In future, it will be an error for 'np.bool_' scalars to be interpreted as an index\n",
      "  return _nd_image.find_objects(input, max_label)\n",
      "/home/ilkay/miniconda3/lib/python3.6/site-packages/nilearn/_utils/cache_mixin.py:232: DeprecationWarning: The 'cachedir' attribute has been deprecated in version 0.12 and will be removed in version 0.14.\n",
      "Use os.path.join(memory.location, 'joblib') attribute instead.\n",
      "  if (memory.cachedir is None and memory_level is not None\n",
      "/home/ilkay/miniconda3/lib/python3.6/site-packages/scipy/ndimage/measurements.py:272: DeprecationWarning: In future, it will be an error for 'np.bool_' scalars to be interpreted as an index\n",
      "  return _nd_image.find_objects(input, max_label)\n",
      "/home/ilkay/miniconda3/lib/python3.6/site-packages/scipy/ndimage/measurements.py:272: DeprecationWarning: In future, it will be an error for 'np.bool_' scalars to be interpreted as an index\n",
      "  return _nd_image.find_objects(input, max_label)\n",
      "/home/ilkay/miniconda3/lib/python3.6/site-packages/nilearn/_utils/cache_mixin.py:232: DeprecationWarning: The 'cachedir' attribute has been deprecated in version 0.12 and will be removed in version 0.14.\n",
      "Use os.path.join(memory.location, 'joblib') attribute instead.\n",
      "  if (memory.cachedir is None and memory_level is not None\n",
      "/home/ilkay/miniconda3/lib/python3.6/site-packages/scipy/ndimage/measurements.py:272: DeprecationWarning: In future, it will be an error for 'np.bool_' scalars to be interpreted as an index\n",
      "  return _nd_image.find_objects(input, max_label)\n",
      "/home/ilkay/miniconda3/lib/python3.6/site-packages/scipy/ndimage/measurements.py:272: DeprecationWarning: In future, it will be an error for 'np.bool_' scalars to be interpreted as an index\n",
      "  return _nd_image.find_objects(input, max_label)\n",
      "/home/ilkay/miniconda3/lib/python3.6/site-packages/nilearn/_utils/cache_mixin.py:232: DeprecationWarning: The 'cachedir' attribute has been deprecated in version 0.12 and will be removed in version 0.14.\n",
      "Use os.path.join(memory.location, 'joblib') attribute instead.\n",
      "  if (memory.cachedir is None and memory_level is not None\n",
      "/home/ilkay/miniconda3/lib/python3.6/site-packages/scipy/ndimage/measurements.py:272: DeprecationWarning: In future, it will be an error for 'np.bool_' scalars to be interpreted as an index\n",
      "  return _nd_image.find_objects(input, max_label)\n",
      "/home/ilkay/miniconda3/lib/python3.6/site-packages/scipy/ndimage/measurements.py:272: DeprecationWarning: In future, it will be an error for 'np.bool_' scalars to be interpreted as an index\n",
      "  return _nd_image.find_objects(input, max_label)\n"
     ]
    }
   ],
   "source": [
    "h, thr ='fdr', 0.05 # thresholding parameters\n",
    "prob_maps = root + 'prob_maps'\n",
    "\n",
    "if not os.path.exists(prob_maps):\n",
    "    os.makedirs(prob_maps)\n",
    "\n",
    "for c, loc in enumerate(pfob_norm):\n",
    "    zmaps = [load(zmap) for zmap in loc]\n",
    "    thr_images, thresholds = [], []\n",
    "    \n",
    "    for i in range(nr_sub):\n",
    "        thr_img, threshold = map_threshold(zmaps[i], level=thr, height_control=h)\n",
    "        thr_images.append(thr_img)\n",
    "        thresholds.append(threshold)\n",
    "    \n",
    "    data = [zmap.get_data() for zmap in thr_images]\n",
    "    bin_data = []\n",
    "    for i  in range(nr_sub):\n",
    "        bin_data.append(np.where(data[i] > thresholds[i], 1, 0))\n",
    "\n",
    "    # sum the images\n",
    "    sum_img = np.sum(bin_data, axis=0)\n",
    "    # save out\n",
    "    out = Nifti1Image(sum_img, header=zmaps[0].header, affine=zmaps[0].affine)\n",
    "    save(out, prob_maps + '/' + names[c] + \"sum.nii.gz\")\n",
    "    \n",
    "    # plots\n",
    "    plotting.plot_stat_map(out, bg_img=mni_temp)\n",
    "    plt.savefig(prob_maps + '/' + names[c] + '_sum_plot.png', dpi=300)\n",
    "    plt.close()\n",
    "    \n",
    "    plotting.plot_glass_brain(out, black_bg=True, display_mode='lyrz', colorbar=True,\n",
    "    title=names[c])\n",
    "    plt.savefig(prob_maps + '/' + names[c] + '_sum_glass_summary.png', dpi=300)\n",
    "    plt.close()\n",
    "    \n",
    "    \n",
    "    \n",
    "    # threshold the sum image and save out as a mask\n",
    "    thr_sum = np.where(sum_img > 6, 1, 0)\n",
    "    \n",
    "    out = Nifti1Image(thr_sum, header=zmaps[0].header, affine=zmaps[0].affine)\n",
    "    save(out, prob_maps + '/' + names[c] + \"_thr_sum.nii.gz\")\n",
    "    \n",
    "    # plots\n",
    "    plotting.plot_stat_map(out, bg_img=mni_temp, title=names[c])\n",
    "    plt.savefig(prob_maps + '/' + names[c] + '_thr_sum.png', dpi=300)\n",
    "    plt.close()\n",
    "\n",
    "    plotting.plot_glass_brain(out, black_bg=True, display_mode='lyrz', colorbar=True,\n",
    "    title=names[c])\n",
    "    plt.savefig(prob_maps + '/' + names[c] + '_thr_sum_summary.png', dpi=300)\n",
    "    plt.close()"
   ]
  },
  {
   "cell_type": "markdown",
   "metadata": {},
   "source": [
    "4. Parcellate the overlap map by using an image segmentation algorithm"
   ]
  },
  {
   "cell_type": "code",
   "execution_count": 53,
   "metadata": {},
   "outputs": [],
   "source": [
    "\n",
    "    \n",
    "    "
   ]
  },
  {
   "cell_type": "code",
   "execution_count": 17,
   "metadata": {},
   "outputs": [],
   "source": [
    "sum_img[sum_img < 6] = 0"
   ]
  },
  {
   "cell_type": "markdown",
   "metadata": {},
   "source": [
    "np.shape(sum_img)"
   ]
  },
  {
   "cell_type": "code",
   "execution_count": 23,
   "metadata": {},
   "outputs": [
    {
     "data": {
      "text/plain": [
       "(64, 76, 64)"
      ]
     },
     "execution_count": 23,
     "metadata": {},
     "output_type": "execute_result"
    }
   ],
   "source": []
  },
  {
   "cell_type": "code",
   "execution_count": null,
   "metadata": {},
   "outputs": [],
   "source": []
  },
  {
   "cell_type": "code",
   "execution_count": null,
   "metadata": {},
   "outputs": [],
   "source": []
  },
  {
   "cell_type": "code",
   "execution_count": null,
   "metadata": {},
   "outputs": [],
   "source": [
    "\n",
    "        "
   ]
  },
  {
   "cell_type": "code",
   "execution_count": null,
   "metadata": {
    "scrolled": false
   },
   "outputs": [],
   "source": []
  },
  {
   "cell_type": "code",
   "execution_count": null,
   "metadata": {},
   "outputs": [],
   "source": []
  },
  {
   "cell_type": "code",
   "execution_count": null,
   "metadata": {},
   "outputs": [],
   "source": []
  },
  {
   "cell_type": "markdown",
   "metadata": {},
   "source": []
  },
  {
   "cell_type": "code",
   "execution_count": null,
   "metadata": {
    "scrolled": false
   },
   "outputs": [],
   "source": []
  },
  {
   "cell_type": "markdown",
   "metadata": {},
   "source": []
  },
  {
   "cell_type": "code",
   "execution_count": null,
   "metadata": {
    "scrolled": false
   },
   "outputs": [],
   "source": []
  },
  {
   "cell_type": "markdown",
   "metadata": {},
   "source": [
    "transform the rois back to native space"
   ]
  },
  {
   "cell_type": "code",
   "execution_count": 7,
   "metadata": {},
   "outputs": [],
   "source": [
    "ants_files_rev = sorted(glob(root + 'fmriprep/sub-*/anat/sub-*_T1w_space-MNI152NLin2009cAsym_target-T1w_warp.h5'))\n",
    "ref_imgs = sorted(glob(root + 'analysis/sub-*/pfobloc/pfobloc_group/pfobloc.feat/thresh_zstat12.nii.gz'))\n",
    "T1_refs = sorted(glob(root + '/fmriprep/sub-*/anat/sub-*_T1w_preproc.nii.gz'))"
   ]
  },
  {
   "cell_type": "code",
   "execution_count": 340,
   "metadata": {},
   "outputs": [],
   "source": [
    "for s in range(nr_sub):\n",
    "    sub = 'sub-{}'.format(str(s+1).zfill(2))\n",
    "    rois = sorted(glob(root + 'analysis/' + sub + '/pfobloc/pfobloc_rois/*_thr_0.01.nii.gz'))\n",
    "    for roi in rois:\n",
    "        norm = ApplyTransforms(\n",
    "                reference_image=ref_imgs[s],\n",
    "                dimension=3,\n",
    "                input_image_type=3,\n",
    "                float=True,\n",
    "                interpolation='NearestNeighbor',\n",
    "                invert_transform_flags=[False],\n",
    "                output_image=roi.replace('.nii.gz', '_inT1.nii.gz'),\n",
    "                input_image=roi,\n",
    "                transforms=ants_files_rev[s])\n",
    "        res = norm.run()"
   ]
  },
  {
   "cell_type": "code",
   "execution_count": null,
   "metadata": {},
   "outputs": [],
   "source": [
    "# Transform maps back to subject's T1 space"
   ]
  },
  {
   "cell_type": "code",
   "execution_count": 8,
   "metadata": {},
   "outputs": [],
   "source": [
    "for s in range(nr_sub):\n",
    "    sub = 'sub-{}'.format(str(s+1).zfill(2))\n",
    "    rois = sorted(glob(root + 'analysis/' + sub + '/pfobloc/pfobloc_rois/*_thr_0.05.nii.gz'))\n",
    "    for roi in rois:\n",
    "        norm = ApplyTransforms(\n",
    "                reference_image=ref_imgs[s],\n",
    "                dimension=3,\n",
    "                input_image_type=3,\n",
    "                float=True,\n",
    "                interpolation='NearestNeighbor',\n",
    "                invert_transform_flags=[False],\n",
    "                output_image=roi.replace('.nii.gz', '_inT1.nii.gz'),\n",
    "                input_image=roi,\n",
    "                transforms=ants_files_rev[s])\n",
    "        res = norm.run()"
   ]
  },
  {
   "cell_type": "code",
   "execution_count": 119,
   "metadata": {
    "scrolled": false
   },
   "outputs": [],
   "source": []
  },
  {
   "cell_type": "code",
   "execution_count": null,
   "metadata": {},
   "outputs": [],
   "source": []
  },
  {
   "cell_type": "code",
   "execution_count": null,
   "metadata": {
    "scrolled": false
   },
   "outputs": [],
   "source": []
  },
  {
   "cell_type": "code",
   "execution_count": null,
   "metadata": {},
   "outputs": [],
   "source": []
  },
  {
   "cell_type": "code",
   "execution_count": null,
   "metadata": {},
   "outputs": [],
   "source": []
  },
  {
   "cell_type": "code",
   "execution_count": null,
   "metadata": {},
   "outputs": [],
   "source": []
  }
 ],
 "metadata": {
  "kernelspec": {
   "display_name": "Python 3",
   "language": "python",
   "name": "python3"
  },
  "language_info": {
   "codemirror_mode": {
    "name": "ipython",
    "version": 3
   },
   "file_extension": ".py",
   "mimetype": "text/x-python",
   "name": "python",
   "nbconvert_exporter": "python",
   "pygments_lexer": "ipython3",
   "version": "3.6.8"
  }
 },
 "nbformat": 4,
 "nbformat_minor": 2
}
